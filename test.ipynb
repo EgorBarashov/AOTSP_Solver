{
 "cells": [
  {
   "cell_type": "code",
   "execution_count": 1,
   "id": "adde3bc6-b7e3-4155-83ce-64baabdd2ae1",
   "metadata": {},
   "outputs": [],
   "source": [
    "from solver import ETSP_Problem, TSP_Problem"
   ]
  },
  {
   "cell_type": "code",
   "execution_count": 2,
   "id": "205a0516-76d4-4967-b9bd-0518e97a3f52",
   "metadata": {},
   "outputs": [],
   "source": [
    "problem = ETSP_Problem.load_tsplib('data/burma14.tsp')"
   ]
  },
  {
   "cell_type": "code",
   "execution_count": 3,
   "id": "905101ac-521a-4d9e-be20-a571a6749636",
   "metadata": {},
   "outputs": [
    {
     "data": {
      "text/plain": [
       "[[16.47, 96.1],\n",
       " [16.47, 94.44],\n",
       " [20.09, 92.54],\n",
       " [22.39, 93.37],\n",
       " [25.23, 97.24],\n",
       " [22.0, 96.05],\n",
       " [20.47, 97.02],\n",
       " [17.2, 96.29],\n",
       " [16.3, 97.38],\n",
       " [14.05, 98.12],\n",
       " [16.53, 97.38],\n",
       " [21.52, 95.59],\n",
       " [19.41, 97.13],\n",
       " [20.09, 94.55]]"
      ]
     },
     "execution_count": 3,
     "metadata": {},
     "output_type": "execute_result"
    }
   ],
   "source": [
    "problem.coordinates"
   ]
  },
  {
   "cell_type": "code",
   "execution_count": null,
   "id": "5bb1d0d4-6b0a-4cdf-98c4-a8a44e4deaa5",
   "metadata": {},
   "outputs": [],
   "source": []
  }
 ],
 "metadata": {
  "kernelspec": {
   "display_name": "Python 3 (ipykernel)",
   "language": "python",
   "name": "python3"
  },
  "language_info": {
   "codemirror_mode": {
    "name": "ipython",
    "version": 3
   },
   "file_extension": ".py",
   "mimetype": "text/x-python",
   "name": "python",
   "nbconvert_exporter": "python",
   "pygments_lexer": "ipython3",
   "version": "3.10.9"
  }
 },
 "nbformat": 4,
 "nbformat_minor": 5
}
